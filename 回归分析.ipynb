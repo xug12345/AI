{
 "cells": [
  {
   "cell_type": "markdown",
   "metadata": {},
   "source": [
    "# 导入数据包"
   ]
  },
  {
   "cell_type": "code",
   "execution_count": 3,
   "metadata": {},
   "outputs": [],
   "source": [
    "import torch as t\n",
    "%matplotlib inline\n",
    "from matplotlib import pyplot as plt\n",
    "from IPython import display"
   ]
  },
  {
   "cell_type": "markdown",
   "metadata": {},
   "source": [
    "# 生成测试数据"
   ]
  },
  {
   "cell_type": "code",
   "execution_count": 77,
   "metadata": {},
   "outputs": [],
   "source": [
    "def get_fake_data(batch_size=8):\n",
    "    ''' 产生随机数据：y=x*2+3，加上了一些噪声'''\n",
    "    x=t.arange(-1,1,0.02)\n",
    "    #x = t.linspace(-1,1,batch_size)\n",
    "    #y = 6*x.sin()+2*x.cos()*7+5*x**3+3*x+t.randn(batch_size)\n",
    "    y=((x**2-1)**3+1)*((2*x).cos()+0.6*(1.3*x).sin())  \n",
    "    return x, y"
   ]
  },
  {
   "cell_type": "markdown",
   "metadata": {},
   "source": [
    "# 绘制测试数据图"
   ]
  },
  {
   "cell_type": "code",
   "execution_count": 78,
   "metadata": {},
   "outputs": [
    {
     "data": {
      "text/plain": [
       "<matplotlib.collections.PathCollection at 0x2809d90d400>"
      ]
     },
     "execution_count": 78,
     "metadata": {},
     "output_type": "execute_result"
    },
    {
     "data": {
      "image/png": "[encoded data removed]",
      "text/plain": [
       "<Figure size 432x288 with 1 Axes>"
      ]
     },
     "metadata": {
      "needs_background": "light"
     },
     "output_type": "display_data"
    }
   ],
   "source": [
    "xx,yy=get_fake_data(30)\n",
    "plt.scatter(xx, yy)"
   ]
  },
  {
   "cell_type": "markdown",
   "metadata": {},
   "source": [
    "# 曲线拟合\n",
    "多项式曲线拟合损失函数的矩阵形式是$$Loss(w)=\\frac 1 2 (Xw-Y)^T(Xw-Y)$$\n",
    "\n",
    "损失函数的导数为0，既：$$\\frac {\\partial} {\\partial w}  Loss(w)=X^T(XW-Y)$$"
   ]
  },
  {
   "cell_type": "markdown",
   "metadata": {},
   "source": [
    "## 最小二乘法拟合\n",
    "最小二乘法拟合就是令损失函数的导数为零，计算多项式系数\n",
    "$$w=(X^TX)^{-1}X^TY$$"
   ]
  },
  {
   "cell_type": "code",
   "execution_count": 104,
   "metadata": {},
   "outputs": [],
   "source": [
    "def leastSquareRegresion(x,y,order):\n",
    "    xx=t.ones(order+1,x.size(0))\n",
    "    for i in range(1,order+1):\n",
    "        xx[i]=x**i\n",
    "    xt=xx.t()    \n",
    "    #w=np.dot(np.dot(np.linalg.inv(np.dot(XT,X)),XT),Y)\n",
    "    w=xt\n",
    "    print(w.size())\n",
    "    w=w.mm(xx)\n",
    "    print(w.size())\n",
    "    w=w.inverse()\n",
    "    print(w.size())\n",
    "    w=w.mm(xt)\n",
    "    w=w.t()\n",
    "    print(w.size())\n",
    "    y=y.unsqueeze(1)\n",
    "    print(y.size())\n",
    "    w=w.mm(y)\n",
    "    print(w.size())\n",
    "    #w=mt.mm(m)\n",
    "    #w=w.inverse()\n",
    "    #w=w.mm(mt)\n",
    "    return w\n"
   ]
  },
  {
   "cell_type": "code",
   "execution_count": 119,
   "metadata": {},
   "outputs": [
    {
     "name": "stdout",
     "output_type": "stream",
     "text": [
      "torch.Size([100, 16])\n",
      "torch.Size([100, 100])\n",
      "torch.Size([100, 100])\n",
      "torch.Size([16, 100])\n",
      "torch.Size([100, 1])\n",
      "torch.Size([16, 1])\n"
     ]
    }
   ],
   "source": [
    "w=leastSquareRegresion(xx,yy,15)"
   ]
  },
  {
   "cell_type": "code",
   "execution_count": 120,
   "metadata": {},
   "outputs": [
    {
     "name": "stdout",
     "output_type": "stream",
     "text": [
      "torch.Size([100])\n",
      "torch.Size([8, 4])\n"
     ]
    }
   ],
   "source": [
    "print(yy.size())\n",
    "print(m.size())"
   ]
  },
  {
   "cell_type": "code",
   "execution_count": 121,
   "metadata": {},
   "outputs": [
    {
     "data": {
      "text/plain": [
       "tensor([[  -5.6124],\n",
       "        [  -1.5259],\n",
       "        [  -6.0104],\n",
       "        [ -14.1366],\n",
       "        [ -10.2870],\n",
       "        [  64.3905],\n",
       "        [  49.3168],\n",
       "        [-151.9910],\n",
       "        [-115.7338],\n",
       "        [ 113.5749],\n",
       "        [   0.8491],\n",
       "        [  21.6494],\n",
       "        [ 139.5002],\n",
       "        [ -95.7813],\n",
       "        [ -88.5055],\n",
       "        [  34.0256]])"
      ]
     },
     "execution_count": 121,
     "metadata": {},
     "output_type": "execute_result"
    }
   ],
   "source": [
    "w"
   ]
  },
  {
   "cell_type": "code",
   "execution_count": null,
   "metadata": {},
   "outputs": [],
   "source": []
  }
 ],
 "metadata": {
  "kernelspec": {
   "display_name": "Python 3",
   "language": "python",
   "name": "python3"
  },
  "language_info": {
   "codemirror_mode": {
    "name": "ipython",
    "version": 3
   },
   "file_extension": ".py",
   "mimetype": "text/x-python",
   "name": "python",
   "nbconvert_exporter": "python",
   "pygments_lexer": "ipython3",
   "version": "3.7.0"
  }
 },
 "nbformat": 4,
 "nbformat_minor": 2
}
